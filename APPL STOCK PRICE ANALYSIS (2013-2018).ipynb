{
 "cells": [
  {
   "cell_type": "code",
   "execution_count": 13,
   "id": "73775c1c",
   "metadata": {},
   "outputs": [],
   "source": [
    "import pandas as pd"
   ]
  },
  {
   "cell_type": "code",
   "execution_count": 14,
   "id": "09f83885",
   "metadata": {},
   "outputs": [],
   "source": [
    "import numpy as np"
   ]
  },
  {
   "cell_type": "code",
   "execution_count": 16,
   "id": "b14a65ae",
   "metadata": {},
   "outputs": [],
   "source": [
    "csv_path = \"C:/Users/henry/Desktop/henry/AAPL_data.csv\""
   ]
  },
  {
   "cell_type": "code",
   "execution_count": 26,
   "id": "08516a27",
   "metadata": {},
   "outputs": [],
   "source": [
    "df = pd.read_csv(csv_path)"
   ]
  },
  {
   "cell_type": "code",
   "execution_count": 27,
   "id": "3e4b615a",
   "metadata": {},
   "outputs": [
    {
     "data": {
      "text/html": [
       "<div>\n",
       "<style scoped>\n",
       "    .dataframe tbody tr th:only-of-type {\n",
       "        vertical-align: middle;\n",
       "    }\n",
       "\n",
       "    .dataframe tbody tr th {\n",
       "        vertical-align: top;\n",
       "    }\n",
       "\n",
       "    .dataframe thead th {\n",
       "        text-align: right;\n",
       "    }\n",
       "</style>\n",
       "<table border=\"1\" class=\"dataframe\">\n",
       "  <thead>\n",
       "    <tr style=\"text-align: right;\">\n",
       "      <th></th>\n",
       "      <th>date</th>\n",
       "      <th>open</th>\n",
       "      <th>high</th>\n",
       "      <th>low</th>\n",
       "      <th>close</th>\n",
       "      <th>volume</th>\n",
       "      <th>Name</th>\n",
       "    </tr>\n",
       "  </thead>\n",
       "  <tbody>\n",
       "    <tr>\n",
       "      <th>0</th>\n",
       "      <td>2013-02-08</td>\n",
       "      <td>67.7142</td>\n",
       "      <td>68.4014</td>\n",
       "      <td>66.8928</td>\n",
       "      <td>67.8542</td>\n",
       "      <td>158168416</td>\n",
       "      <td>AAPL</td>\n",
       "    </tr>\n",
       "    <tr>\n",
       "      <th>1</th>\n",
       "      <td>2013-02-11</td>\n",
       "      <td>68.0714</td>\n",
       "      <td>69.2771</td>\n",
       "      <td>67.6071</td>\n",
       "      <td>68.5614</td>\n",
       "      <td>129029425</td>\n",
       "      <td>AAPL</td>\n",
       "    </tr>\n",
       "    <tr>\n",
       "      <th>2</th>\n",
       "      <td>2013-02-12</td>\n",
       "      <td>68.5014</td>\n",
       "      <td>68.9114</td>\n",
       "      <td>66.8205</td>\n",
       "      <td>66.8428</td>\n",
       "      <td>151829363</td>\n",
       "      <td>AAPL</td>\n",
       "    </tr>\n",
       "    <tr>\n",
       "      <th>3</th>\n",
       "      <td>2013-02-13</td>\n",
       "      <td>66.7442</td>\n",
       "      <td>67.6628</td>\n",
       "      <td>66.1742</td>\n",
       "      <td>66.7156</td>\n",
       "      <td>118721995</td>\n",
       "      <td>AAPL</td>\n",
       "    </tr>\n",
       "    <tr>\n",
       "      <th>4</th>\n",
       "      <td>2013-02-14</td>\n",
       "      <td>66.3599</td>\n",
       "      <td>67.3771</td>\n",
       "      <td>66.2885</td>\n",
       "      <td>66.6556</td>\n",
       "      <td>88809154</td>\n",
       "      <td>AAPL</td>\n",
       "    </tr>\n",
       "  </tbody>\n",
       "</table>\n",
       "</div>"
      ],
      "text/plain": [
       "         date     open     high      low    close     volume  Name\n",
       "0  2013-02-08  67.7142  68.4014  66.8928  67.8542  158168416  AAPL\n",
       "1  2013-02-11  68.0714  69.2771  67.6071  68.5614  129029425  AAPL\n",
       "2  2013-02-12  68.5014  68.9114  66.8205  66.8428  151829363  AAPL\n",
       "3  2013-02-13  66.7442  67.6628  66.1742  66.7156  118721995  AAPL\n",
       "4  2013-02-14  66.3599  67.3771  66.2885  66.6556   88809154  AAPL"
      ]
     },
     "execution_count": 27,
     "metadata": {},
     "output_type": "execute_result"
    }
   ],
   "source": [
    "df.head(5)"
   ]
  },
  {
   "cell_type": "code",
   "execution_count": 28,
   "id": "4a8e03a1",
   "metadata": {},
   "outputs": [
    {
     "data": {
      "text/plain": [
       "date       object\n",
       "open      float64\n",
       "high      float64\n",
       "low       float64\n",
       "close     float64\n",
       "volume      int64\n",
       "Name       object\n",
       "dtype: object"
      ]
     },
     "execution_count": 28,
     "metadata": {},
     "output_type": "execute_result"
    }
   ],
   "source": [
    "df.dtypes"
   ]
  },
  {
   "cell_type": "code",
   "execution_count": 29,
   "id": "82619656",
   "metadata": {},
   "outputs": [
    {
     "data": {
      "text/plain": [
       "<bound method DataFrame.info of             date      open      high       low     close     volume  Name\n",
       "0     2013-02-08   67.7142   68.4014   66.8928   67.8542  158168416  AAPL\n",
       "1     2013-02-11   68.0714   69.2771   67.6071   68.5614  129029425  AAPL\n",
       "2     2013-02-12   68.5014   68.9114   66.8205   66.8428  151829363  AAPL\n",
       "3     2013-02-13   66.7442   67.6628   66.1742   66.7156  118721995  AAPL\n",
       "4     2013-02-14   66.3599   67.3771   66.2885   66.6556   88809154  AAPL\n",
       "...          ...       ...       ...       ...       ...        ...   ...\n",
       "1254  2018-02-01  167.1650  168.6200  166.7600  167.7800   47230787  AAPL\n",
       "1255  2018-02-02  166.0000  166.8000  160.1000  160.5000   86593825  AAPL\n",
       "1256  2018-02-05  159.1000  163.8800  156.0000  156.4900   72738522  AAPL\n",
       "1257  2018-02-06  154.8300  163.7200  154.0000  163.0300   68243838  AAPL\n",
       "1258  2018-02-07  163.0850  163.4000  159.0685  159.5400   51608580  AAPL\n",
       "\n",
       "[1259 rows x 7 columns]>"
      ]
     },
     "execution_count": 29,
     "metadata": {},
     "output_type": "execute_result"
    }
   ],
   "source": [
    "df.info"
   ]
  },
  {
   "cell_type": "code",
   "execution_count": 55,
   "id": "2809ed64",
   "metadata": {},
   "outputs": [
    {
     "data": {
      "text/plain": [
       "<bound method NDFrame.describe of            date      open      high       low     close     volume  Name\n",
       "0    2013-02-08   67.7142   68.4014   66.8928   67.8542  158168416  AAPL\n",
       "1    2013-02-11   68.0714   69.2771   67.6071   68.5614  129029425  AAPL\n",
       "2    2013-02-12   68.5014   68.9114   66.8205   66.8428  151829363  AAPL\n",
       "3    2013-02-13   66.7442   67.6628   66.1742   66.7156  118721995  AAPL\n",
       "4    2013-02-14   66.3599   67.3771   66.2885   66.6556   88809154  AAPL\n",
       "...         ...       ...       ...       ...       ...        ...   ...\n",
       "1254 2018-02-01  167.1650  168.6200  166.7600  167.7800   47230787  AAPL\n",
       "1255 2018-02-02  166.0000  166.8000  160.1000  160.5000   86593825  AAPL\n",
       "1256 2018-02-05  159.1000  163.8800  156.0000  156.4900   72738522  AAPL\n",
       "1257 2018-02-06  154.8300  163.7200  154.0000  163.0300   68243838  AAPL\n",
       "1258 2018-02-07  163.0850  163.4000  159.0685  159.5400   51608580  AAPL\n",
       "\n",
       "[1259 rows x 7 columns]>"
      ]
     },
     "execution_count": 55,
     "metadata": {},
     "output_type": "execute_result"
    }
   ],
   "source": [
    "df.describe"
   ]
  },
  {
   "cell_type": "code",
   "execution_count": 33,
   "id": "1854cfd1",
   "metadata": {},
   "outputs": [],
   "source": [
    "df['date'] = pd.to_datetime(df['date'])"
   ]
  },
  {
   "cell_type": "code",
   "execution_count": 51,
   "id": "cf0ba4da",
   "metadata": {},
   "outputs": [],
   "source": [
    "df = df.sort_values('date')"
   ]
  },
  {
   "cell_type": "code",
   "execution_count": 58,
   "id": "e1652d97",
   "metadata": {},
   "outputs": [
    {
     "name": "stdout",
     "output_type": "stream",
     "text": [
      "average closing price : 109.06669849086578\n"
     ]
    }
   ],
   "source": [
    "average_closing_price = df['close'].mean()\n",
    "print(\"average closing price :\", average_closing_price)"
   ]
  },
  {
   "cell_type": "code",
   "execution_count": 59,
   "id": "055cba76",
   "metadata": {},
   "outputs": [
    {
     "name": "stdout",
     "output_type": "stream",
     "text": [
      "Overall Trend: Upward\n"
     ]
    }
   ],
   "source": [
    "if df['close'].iloc[0] < df['close'].iloc[-1]:\n",
    "    trend = \"Upward\"\n",
    "elif df['close'].iloc[0] > df['close'].iloc[-1]:\n",
    "    trend = \"Downward\"\n",
    "else:\n",
    "    trend = \"Stable\"\n",
    "print(\"Overall Trend:\", trend)"
   ]
  },
  {
   "cell_type": "code",
   "execution_count": 60,
   "id": "5bb81f57",
   "metadata": {},
   "outputs": [],
   "source": [
    "import matplotlib.pyplot as plt"
   ]
  },
  {
   "cell_type": "code",
   "execution_count": 87,
   "id": "5821cda5",
   "metadata": {},
   "outputs": [
    {
     "data": {
      "image/png": "[encoded data removed]",
      "text/plain": [
       "<Figure size 1000x600 with 1 Axes>"
      ]
     },
     "metadata": {},
     "output_type": "display_data"
    }
   ],
   "source": [
    "plt.figure(figsize=(10, 6))\n",
    "plt.plot(df['date'], df['close'])\n",
    "plt.xlabel('date')\n",
    "plt.ylabel('close')\n",
    "plt.title('AAPL Stock Prices')\n",
    "plt.grid(True)\n",
    "plt.show()"
   ]
  },
  {
   "cell_type": "code",
   "execution_count": null,
   "id": "6abfb093",
   "metadata": {},
   "outputs": [],
   "source": []
  }
 ],
 "metadata": {
  "kernelspec": {
   "display_name": "Python 3 (ipykernel)",
   "language": "python",
   "name": "python3"
  },
  "language_info": {
   "codemirror_mode": {
    "name": "ipython",
    "version": 3
   },
   "file_extension": ".py",
   "mimetype": "text/x-python",
   "name": "python",
   "nbconvert_exporter": "python",
   "pygments_lexer": "ipython3",
   "version": "3.10.9"
  }
 },
 "nbformat": 4,
 "nbformat_minor": 5
}
